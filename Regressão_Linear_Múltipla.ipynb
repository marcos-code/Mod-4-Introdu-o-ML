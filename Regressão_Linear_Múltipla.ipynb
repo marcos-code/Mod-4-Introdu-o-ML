{
  "nbformat": 4,
  "nbformat_minor": 0,
  "metadata": {
    "colab": {
      "name": "Regressão Linear Múltipla.ipynb",
      "provenance": [],
      "authorship_tag": "ABX9TyNxa5Bd/jpOnPPzxPLVyfAX",
      "include_colab_link": true
    },
    "kernelspec": {
      "name": "python3",
      "display_name": "Python 3"
    },
    "language_info": {
      "name": "python"
    }
  },
  "cells": [
    {
      "cell_type": "markdown",
      "metadata": {
        "id": "view-in-github",
        "colab_type": "text"
      },
      "source": [
        "<a href=\"https://colab.research.google.com/github/marcos-code/Mod-4-Introdu-o-ML/blob/main/Regress%C3%A3o_Linear_M%C3%BAltipla.ipynb\" target=\"_parent\"><img src=\"https://colab.research.google.com/assets/colab-badge.svg\" alt=\"Open In Colab\"/></a>"
      ]
    },
    {
      "cell_type": "markdown",
      "metadata": {
        "id": "yHJzV1IKfm2z"
      },
      "source": [
        "# Regressão Linear Múltipla \n",
        "o raciocício usadado é exatamente o mesmo que vimos com a anterior. A diferença é que temos mais variáveis independentes para considerar o nosso modelo.\n"
      ]
    },
    {
      "cell_type": "code",
      "metadata": {
        "colab": {
          "base_uri": "https://localhost:8080/",
          "height": 222
        },
        "id": "CG4tL2DufY00",
        "outputId": "d3930c2c-1de5-4cff-a961-70c29f87c1f7"
      },
      "source": [
        "# importando os pacotes necessários\n",
        "import pandas as pd\n",
        "import matplotlib.pyplot as plt\n",
        "import seaborn as sns\n",
        "from sklearn.model_selection import train_test_split\n",
        "from sklearn.metrics import r2_score\n",
        "from sklearn.metrics import mean_absolute_error\n",
        "from sklearn.metrics import mean_squared_error\n",
        "\n",
        "# importando aquivo\n",
        "df = pd.read_csv(\"http://dl.dropboxusercontent.com/s/gc1rm540g4i670n/precificacao_housing_plus.csv?dl=1\")\n",
        "\n",
        "# ver as primeiras entradas\n",
        "df.drop('Id', axis=1, inplace=True)\n",
        "df.head()"
      ],
      "execution_count": 10,
      "outputs": [
        {
          "output_type": "execute_result",
          "data": {
            "text/html": [
              "<div>\n",
              "<style scoped>\n",
              "    .dataframe tbody tr th:only-of-type {\n",
              "        vertical-align: middle;\n",
              "    }\n",
              "\n",
              "    .dataframe tbody tr th {\n",
              "        vertical-align: top;\n",
              "    }\n",
              "\n",
              "    .dataframe thead th {\n",
              "        text-align: right;\n",
              "    }\n",
              "</style>\n",
              "<table border=\"1\" class=\"dataframe\">\n",
              "  <thead>\n",
              "    <tr style=\"text-align: right;\">\n",
              "      <th></th>\n",
              "      <th>MSSubClass</th>\n",
              "      <th>LotArea</th>\n",
              "      <th>OverallQual</th>\n",
              "      <th>OverallCond</th>\n",
              "      <th>YearBuilt</th>\n",
              "      <th>YearRemodAdd</th>\n",
              "      <th>BsmtFinSF1</th>\n",
              "      <th>BsmtFinSF2</th>\n",
              "      <th>BsmtUnfSF</th>\n",
              "      <th>TotalBsmtSF</th>\n",
              "      <th>1stFlrSF</th>\n",
              "      <th>2ndFlrSF</th>\n",
              "      <th>LowQualFinSF</th>\n",
              "      <th>GrLivArea</th>\n",
              "      <th>BsmtFullBath</th>\n",
              "      <th>BsmtHalfBath</th>\n",
              "      <th>FullBath</th>\n",
              "      <th>HalfBath</th>\n",
              "      <th>BedroomAbvGr</th>\n",
              "      <th>KitchenAbvGr</th>\n",
              "      <th>TotRmsAbvGrd</th>\n",
              "      <th>Fireplaces</th>\n",
              "      <th>GarageCars</th>\n",
              "      <th>GarageArea</th>\n",
              "      <th>WoodDeckSF</th>\n",
              "      <th>OpenPorchSF</th>\n",
              "      <th>EnclosedPorch</th>\n",
              "      <th>3SsnPorch</th>\n",
              "      <th>ScreenPorch</th>\n",
              "      <th>PoolArea</th>\n",
              "      <th>MiscVal</th>\n",
              "      <th>MoSold</th>\n",
              "      <th>YrSold</th>\n",
              "      <th>SalePrice</th>\n",
              "    </tr>\n",
              "  </thead>\n",
              "  <tbody>\n",
              "    <tr>\n",
              "      <th>0</th>\n",
              "      <td>60</td>\n",
              "      <td>8450</td>\n",
              "      <td>7</td>\n",
              "      <td>5</td>\n",
              "      <td>2003</td>\n",
              "      <td>2003</td>\n",
              "      <td>706</td>\n",
              "      <td>0</td>\n",
              "      <td>150</td>\n",
              "      <td>856</td>\n",
              "      <td>856</td>\n",
              "      <td>854</td>\n",
              "      <td>0</td>\n",
              "      <td>1710</td>\n",
              "      <td>1</td>\n",
              "      <td>0</td>\n",
              "      <td>2</td>\n",
              "      <td>1</td>\n",
              "      <td>3</td>\n",
              "      <td>1</td>\n",
              "      <td>8</td>\n",
              "      <td>0</td>\n",
              "      <td>2</td>\n",
              "      <td>548</td>\n",
              "      <td>0</td>\n",
              "      <td>61</td>\n",
              "      <td>0</td>\n",
              "      <td>0</td>\n",
              "      <td>0</td>\n",
              "      <td>0</td>\n",
              "      <td>0</td>\n",
              "      <td>2</td>\n",
              "      <td>2008</td>\n",
              "      <td>208500</td>\n",
              "    </tr>\n",
              "    <tr>\n",
              "      <th>1</th>\n",
              "      <td>20</td>\n",
              "      <td>9600</td>\n",
              "      <td>6</td>\n",
              "      <td>8</td>\n",
              "      <td>1976</td>\n",
              "      <td>1976</td>\n",
              "      <td>978</td>\n",
              "      <td>0</td>\n",
              "      <td>284</td>\n",
              "      <td>1262</td>\n",
              "      <td>1262</td>\n",
              "      <td>0</td>\n",
              "      <td>0</td>\n",
              "      <td>1262</td>\n",
              "      <td>0</td>\n",
              "      <td>1</td>\n",
              "      <td>2</td>\n",
              "      <td>0</td>\n",
              "      <td>3</td>\n",
              "      <td>1</td>\n",
              "      <td>6</td>\n",
              "      <td>1</td>\n",
              "      <td>2</td>\n",
              "      <td>460</td>\n",
              "      <td>298</td>\n",
              "      <td>0</td>\n",
              "      <td>0</td>\n",
              "      <td>0</td>\n",
              "      <td>0</td>\n",
              "      <td>0</td>\n",
              "      <td>0</td>\n",
              "      <td>5</td>\n",
              "      <td>2007</td>\n",
              "      <td>181500</td>\n",
              "    </tr>\n",
              "    <tr>\n",
              "      <th>2</th>\n",
              "      <td>60</td>\n",
              "      <td>11250</td>\n",
              "      <td>7</td>\n",
              "      <td>5</td>\n",
              "      <td>2001</td>\n",
              "      <td>2002</td>\n",
              "      <td>486</td>\n",
              "      <td>0</td>\n",
              "      <td>434</td>\n",
              "      <td>920</td>\n",
              "      <td>920</td>\n",
              "      <td>866</td>\n",
              "      <td>0</td>\n",
              "      <td>1786</td>\n",
              "      <td>1</td>\n",
              "      <td>0</td>\n",
              "      <td>2</td>\n",
              "      <td>1</td>\n",
              "      <td>3</td>\n",
              "      <td>1</td>\n",
              "      <td>6</td>\n",
              "      <td>1</td>\n",
              "      <td>2</td>\n",
              "      <td>608</td>\n",
              "      <td>0</td>\n",
              "      <td>42</td>\n",
              "      <td>0</td>\n",
              "      <td>0</td>\n",
              "      <td>0</td>\n",
              "      <td>0</td>\n",
              "      <td>0</td>\n",
              "      <td>9</td>\n",
              "      <td>2008</td>\n",
              "      <td>223500</td>\n",
              "    </tr>\n",
              "    <tr>\n",
              "      <th>3</th>\n",
              "      <td>70</td>\n",
              "      <td>9550</td>\n",
              "      <td>7</td>\n",
              "      <td>5</td>\n",
              "      <td>1915</td>\n",
              "      <td>1970</td>\n",
              "      <td>216</td>\n",
              "      <td>0</td>\n",
              "      <td>540</td>\n",
              "      <td>756</td>\n",
              "      <td>961</td>\n",
              "      <td>756</td>\n",
              "      <td>0</td>\n",
              "      <td>1717</td>\n",
              "      <td>1</td>\n",
              "      <td>0</td>\n",
              "      <td>1</td>\n",
              "      <td>0</td>\n",
              "      <td>3</td>\n",
              "      <td>1</td>\n",
              "      <td>7</td>\n",
              "      <td>1</td>\n",
              "      <td>3</td>\n",
              "      <td>642</td>\n",
              "      <td>0</td>\n",
              "      <td>35</td>\n",
              "      <td>272</td>\n",
              "      <td>0</td>\n",
              "      <td>0</td>\n",
              "      <td>0</td>\n",
              "      <td>0</td>\n",
              "      <td>2</td>\n",
              "      <td>2006</td>\n",
              "      <td>140000</td>\n",
              "    </tr>\n",
              "    <tr>\n",
              "      <th>4</th>\n",
              "      <td>60</td>\n",
              "      <td>14260</td>\n",
              "      <td>8</td>\n",
              "      <td>5</td>\n",
              "      <td>2000</td>\n",
              "      <td>2000</td>\n",
              "      <td>655</td>\n",
              "      <td>0</td>\n",
              "      <td>490</td>\n",
              "      <td>1145</td>\n",
              "      <td>1145</td>\n",
              "      <td>1053</td>\n",
              "      <td>0</td>\n",
              "      <td>2198</td>\n",
              "      <td>1</td>\n",
              "      <td>0</td>\n",
              "      <td>2</td>\n",
              "      <td>1</td>\n",
              "      <td>4</td>\n",
              "      <td>1</td>\n",
              "      <td>9</td>\n",
              "      <td>1</td>\n",
              "      <td>3</td>\n",
              "      <td>836</td>\n",
              "      <td>192</td>\n",
              "      <td>84</td>\n",
              "      <td>0</td>\n",
              "      <td>0</td>\n",
              "      <td>0</td>\n",
              "      <td>0</td>\n",
              "      <td>0</td>\n",
              "      <td>12</td>\n",
              "      <td>2008</td>\n",
              "      <td>250000</td>\n",
              "    </tr>\n",
              "  </tbody>\n",
              "</table>\n",
              "</div>"
            ],
            "text/plain": [
              "   MSSubClass  LotArea  OverallQual  ...  MoSold  YrSold  SalePrice\n",
              "0          60     8450            7  ...       2    2008     208500\n",
              "1          20     9600            6  ...       5    2007     181500\n",
              "2          60    11250            7  ...       9    2008     223500\n",
              "3          70     9550            7  ...       2    2006     140000\n",
              "4          60    14260            8  ...      12    2008     250000\n",
              "\n",
              "[5 rows x 34 columns]"
            ]
          },
          "metadata": {
            "tags": []
          },
          "execution_count": 10
        }
      ]
    },
    {
      "cell_type": "markdown",
      "metadata": {
        "id": "1Gidx4e1g8wN"
      },
      "source": [
        "Exatamente a mesma maneira, vou dividir os dados entre teste-treino, construir o modelo e executar o método fit(X_train, y_train)\n"
      ]
    },
    {
      "cell_type": "code",
      "metadata": {
        "id": "b2VuagP-gjEL"
      },
      "source": [
        "# 1. Escolher e importar um modelo\n",
        "from sklearn.linear_model import LinearRegression\n",
        "\n",
        "# 2. Escolher os hyperparameters\n",
        "model = LinearRegression()\n",
        "\n",
        "# 3. Separar os dados entre features matrix e target vector - mas atenção com 1 feature (reshape)\n",
        "X = df.drop('SalePrice', axis=1)\n",
        "y = df['SalePrice']\n",
        "\n",
        "# Dividir o dataset entre treino e teste\n",
        "X_train, X_test, y_train, y_test = train_test_split(X,y)\n",
        "\n",
        "# 4. Fit do modelo (treinar)\n",
        "model.fit(X_train, y_train)\n",
        "\n",
        "# 5. Fazer precisões em cima de novos dados\n",
        "y_pred = model.predict(X_test)\n",
        "\n",
        "\n"
      ],
      "execution_count": 12,
      "outputs": []
    },
    {
      "cell_type": "markdown",
      "metadata": {
        "id": "9yR-ZkAIit5H"
      },
      "source": [
        "Dê uma paradinha agora e compare com o exemplo da Regressão Linear Simples. Qual a diferença?\n",
        "\n",
        "Quando tentamos passar uma única feature, era passada uma estrutura de apenas uma dimensão, o que fazia o scikit-learn a dar um erro. No entanto, quando usamos mais de uma feature, já temos objetos de duas dimensões sem a necessidade de redimensionar. Veja os prints abaixo para ver as dimensões de cada variável nossa e comparar com o exemplo anterior."
      ]
    },
    {
      "cell_type": "code",
      "metadata": {
        "colab": {
          "base_uri": "https://localhost:8080/"
        },
        "id": "pdW1l7Jvizml",
        "outputId": "6cc50ab8-4317-4591-df9a-c3bbf97edae0"
      },
      "source": [
        "print(\"df:\\t\\t\",df.shape)\n",
        "\n",
        "print(\"X:\\t\\t\",X.shape)\n",
        "\n",
        "print(\"y:\\t\\t\", y.shape)"
      ],
      "execution_count": 13,
      "outputs": [
        {
          "output_type": "stream",
          "text": [
            "df:\t\t (1460, 34)\n",
            "X:\t\t (1460, 33)\n",
            "y:\t\t (1460,)\n"
          ],
          "name": "stdout"
        }
      ]
    },
    {
      "cell_type": "markdown",
      "metadata": {
        "id": "u4uDuspVj_J_"
      },
      "source": [
        "Se na Regressão Linear Simples tínhamos apenas um coeficiente e um intercepto, agora temos um coeficiente para cada variável. Para obtermos os coeficientes de regressão e o intercept, podemos acessar os atributos do modelo diretamente da variável ml_model."
      ]
    },
    {
      "cell_type": "code",
      "metadata": {
        "colab": {
          "base_uri": "https://localhost:8080/"
        },
        "id": "ssGsyqqGjQOa",
        "outputId": "9213d10e-879e-4b4e-d04c-7843a9daa9dc"
      },
      "source": [
        "# imprimir os coeficientes\n",
        "print(\"Coeficiente:\\t\", model.coef_)\n",
        "print(\"Intercepto:\\t\", model.intercept_)\n"
      ],
      "execution_count": 14,
      "outputs": [
        {
          "output_type": "stream",
          "text": [
            "Coeficiente:\t [-1.15353206e+02  5.30769846e-01  1.50210429e+04  4.58754242e+03\n",
            "  3.73064602e+02  1.96281733e+02  1.56385148e+01 -7.27626200e-01\n",
            "  2.27468896e+00  1.71855775e+01  1.75673360e+01  1.69697975e+01\n",
            " -1.00733996e+01  2.44637339e+01  3.98226466e+03 -5.81478533e+03\n",
            "  6.50644437e+02  2.25940831e+02 -1.14665756e+04 -2.12871540e+04\n",
            "  8.33356583e+03  4.82343971e+03  1.76238065e+03  3.64581017e+01\n",
            "  8.72322270e+00  2.65901526e+00  1.17380326e+01  1.50070797e+01\n",
            "  5.18135123e+01 -4.83737278e+01 -4.98968257e+00 -1.00665205e+02\n",
            " -1.96257607e+02]\n",
            "Intercepto:\t -782505.7033265007\n"
          ],
          "name": "stdout"
        }
      ]
    },
    {
      "cell_type": "markdown",
      "metadata": {
        "id": "ffOkdqI9nXP3"
      },
      "source": [
        "Vamos testar o desempenho do modelo em cima do nosso conjunto de testes. Para isso, vou colocar a variável X_test como argumento do `ml_model.predict()`, salvar as previsões e verificar o desempenho em cima das métricas já apresentadas."
      ]
    },
    {
      "cell_type": "code",
      "metadata": {
        "colab": {
          "base_uri": "https://localhost:8080/"
        },
        "id": "zSQnNAgykWv4",
        "outputId": "c45182ea-e214-46a2-b891-76be8aa76e36"
      },
      "source": [
        "# verificar desempenho do modelo\n",
        "print(\"R2 Score:\\t\", r2_score(y_test, y_pred))\n",
        "print(\"MAE:\\t\\t\", mean_absolute_error(y_test, y_pred))\n",
        "print(\"MSE:\\t\\t\", mean_squared_error(y_test, y_pred))"
      ],
      "execution_count": 16,
      "outputs": [
        {
          "output_type": "stream",
          "text": [
            "R2 Score:\t 0.7161101710784981\n",
            "MAE:\t\t 23993.974537368955\n",
            "MSE:\t\t 2311078700.74303\n"
          ],
          "name": "stdout"
        }
      ]
    },
    {
      "cell_type": "markdown",
      "metadata": {
        "id": "THowBqMtojN-"
      },
      "source": [
        "Veja como todas as métricas avaliadas tiveram uma melhora significativa. Uma vez que o modelo tinha à disposição mais features para treinar, conseguiu se tornar mais preciso também."
      ]
    },
    {
      "cell_type": "code",
      "metadata": {
        "id": "g5ymEsRmoVtk"
      },
      "source": [
        ""
      ],
      "execution_count": null,
      "outputs": []
    }
  ]
}